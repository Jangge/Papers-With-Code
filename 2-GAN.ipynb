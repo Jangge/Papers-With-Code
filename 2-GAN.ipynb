{
 "cells": [
  {
   "cell_type": "markdown",
   "id": "e9c311cd",
   "metadata": {},
   "source": [
    "# ------------------------------------生成对抗网络-------------------------------------------------"
   ]
  },
  {
   "cell_type": "markdown",
   "id": "a1e95f26",
   "metadata": {},
   "source": [
    "- 包含生成器和判别器，相辅相成一同进化"
   ]
  },
  {
   "cell_type": "code",
   "execution_count": 2,
   "id": "2f94c247",
   "metadata": {},
   "outputs": [],
   "source": [
    "import os\n",
    "\n",
    "import torch\n",
    "import torchvision\n",
    "import torch.nn as nn\n",
    "from torchvision import transforms\n",
    "from torchvision.utils import save_image"
   ]
  },
  {
   "cell_type": "markdown",
   "id": "ce82c512",
   "metadata": {},
   "source": [
    "# ------------------------------------生成对抗网络-------------------------------------------------"
   ]
  },
  {
   "cell_type": "markdown",
   "id": "c2698671",
   "metadata": {},
   "source": [
    "# ------------------------------------准备数据集-------------------------------------------------"
   ]
  },
  {
   "cell_type": "code",
   "execution_count": 5,
   "id": "d9a39dc6",
   "metadata": {},
   "outputs": [],
   "source": [
    "\"\"\"创建样本文件夹\"\"\"\n",
    "# 检查有无文件夹，没有则创建\n",
    "if not os.path.exists(sample_dir):\n",
    "    os.makedirs(sample_dir)"
   ]
  },
  {
   "cell_type": "code",
   "execution_count": 6,
   "id": "46de5a9f",
   "metadata": {},
   "outputs": [],
   "source": [
    "\"\"\"定义图片处理操作\"\"\"\n",
    "transform = transforms.Compose([\n",
    "    transforms.ToTensor(),\n",
    "    transforms.Normalize(mean=[0.5], std=[0.5])\n",
    "])"
   ]
  },
  {
   "cell_type": "code",
   "execution_count": 8,
   "id": "c88b8ef8",
   "metadata": {
    "collapsed": true
   },
   "outputs": [
    {
     "name": "stdout",
     "output_type": "stream",
     "text": [
      "Downloading http://yann.lecun.com/exdb/mnist/train-images-idx3-ubyte.gz\n",
      "Downloading http://yann.lecun.com/exdb/mnist/train-images-idx3-ubyte.gz to data/MNIST\\raw\\train-images-idx3-ubyte.gz\n"
     ]
    },
    {
     "name": "stderr",
     "output_type": "stream",
     "text": [
      "100%|███████████████████████████████████████████████████████████████████| 9912422/9912422 [00:07<00:00, 1283875.47it/s]\n"
     ]
    },
    {
     "name": "stdout",
     "output_type": "stream",
     "text": [
      "Extracting data/MNIST\\raw\\train-images-idx3-ubyte.gz to data/MNIST\\raw\n",
      "\n",
      "Downloading http://yann.lecun.com/exdb/mnist/train-labels-idx1-ubyte.gz\n",
      "Downloading http://yann.lecun.com/exdb/mnist/train-labels-idx1-ubyte.gz to data/MNIST\\raw\\train-labels-idx1-ubyte.gz\n"
     ]
    },
    {
     "name": "stderr",
     "output_type": "stream",
     "text": [
      "100%|████████████████████████████████████████████████████████████████████████| 28881/28881 [00:00<00:00, 137679.39it/s]\n"
     ]
    },
    {
     "name": "stdout",
     "output_type": "stream",
     "text": [
      "Extracting data/MNIST\\raw\\train-labels-idx1-ubyte.gz to data/MNIST\\raw\n",
      "\n",
      "Downloading http://yann.lecun.com/exdb/mnist/t10k-images-idx3-ubyte.gz\n",
      "Downloading http://yann.lecun.com/exdb/mnist/t10k-images-idx3-ubyte.gz to data/MNIST\\raw\\t10k-images-idx3-ubyte.gz\n"
     ]
    },
    {
     "name": "stderr",
     "output_type": "stream",
     "text": [
      "100%|████████████████████████████████████████████████████████████████████| 1648877/1648877 [00:02<00:00, 774822.51it/s]\n"
     ]
    },
    {
     "name": "stdout",
     "output_type": "stream",
     "text": [
      "Extracting data/MNIST\\raw\\t10k-images-idx3-ubyte.gz to data/MNIST\\raw\n",
      "\n",
      "Downloading http://yann.lecun.com/exdb/mnist/t10k-labels-idx1-ubyte.gz\n",
      "Downloading http://yann.lecun.com/exdb/mnist/t10k-labels-idx1-ubyte.gz to data/MNIST\\raw\\t10k-labels-idx1-ubyte.gz\n"
     ]
    },
    {
     "name": "stderr",
     "output_type": "stream",
     "text": [
      "100%|██████████████████████████████████████████████████████████████████████████████████████| 4542/4542 [00:00<?, ?it/s]\n"
     ]
    },
    {
     "name": "stdout",
     "output_type": "stream",
     "text": [
      "Extracting data/MNIST\\raw\\t10k-labels-idx1-ubyte.gz to data/MNIST\\raw\n",
      "\n"
     ]
    }
   ],
   "source": [
    "\"\"\"加载MNSIT数据集\"\"\"\n",
    "mnist = torchvision.datasets.MNIST(root='data/', train=True, transform=transform, download=True)"
   ]
  },
  {
   "cell_type": "code",
   "execution_count": 9,
   "id": "33dc39d4",
   "metadata": {},
   "outputs": [],
   "source": [
    "\"\"\"打包数据用于训练\"\"\"\n",
    "data_loader = torch.utils.data.DataLoader(dataset=mnist, batch_size=batch_size, shuffle=True)"
   ]
  },
  {
   "cell_type": "markdown",
   "id": "8472b6f7",
   "metadata": {},
   "source": [
    "# ------------------------------------定义网络模型-------------------------------------------------\n",
    "- 模型分为生成器和判别器两个模型"
   ]
  },
  {
   "cell_type": "code",
   "execution_count": 3,
   "id": "7a5eecb4",
   "metadata": {},
   "outputs": [],
   "source": [
    "\"\"\"定义使用GPU计算\"\"\"\n",
    "device = torch.device('cuda' if torch.cuda.is_available() else 'cpu')"
   ]
  },
  {
   "cell_type": "code",
   "execution_count": 15,
   "id": "38986d12",
   "metadata": {},
   "outputs": [],
   "source": [
    "\"\"\"定义判别器模型\"\"\"\n",
    "D = nn.Sequential(\n",
    "    nn.Linear(image_size, hidden_size),\n",
    "    nn.LeakyReLU(0.2),\n",
    "    nn.Linear(hidden_size, hidden_size),\n",
    "    nn.LeakyReLU(0.2),\n",
    "    nn.Linear(hidden_size, 1),\n",
    "    nn.Sigmoid()\n",
    ")\n",
    "# 将模型转移到GPU\n",
    "D = D.to(device)"
   ]
  },
  {
   "cell_type": "code",
   "execution_count": 16,
   "id": "a304ce0d",
   "metadata": {},
   "outputs": [],
   "source": [
    "\"\"\"定义生成器模型\"\"\"\n",
    "G = nn.Sequential(\n",
    "    nn.Linear(latent_size, hidden_size),\n",
    "    nn.ReLU(),\n",
    "    nn.Linear(hidden_size, hidden_size),\n",
    "    nn.ReLU(),\n",
    "    nn.Linear(hidden_size, image_size),\n",
    "    nn.Tanh()\n",
    ")\n",
    "# 将模型转移到GPU\n",
    "G = G.to(device)"
   ]
  },
  {
   "cell_type": "code",
   "execution_count": 17,
   "id": "97ee810e",
   "metadata": {},
   "outputs": [],
   "source": [
    "\"\"\"定义损失函数和参数优化器\"\"\"\n",
    "criterion = nn.BCELoss()\n",
    "d_optimizer = torch.optim.Adam(D.parameters(), lr=0.0002)\n",
    "g_optimizer = torch.optim.Adam(G.parameters(), lr=0.0002)"
   ]
  },
  {
   "cell_type": "code",
   "execution_count": 18,
   "id": "4e87c115",
   "metadata": {},
   "outputs": [],
   "source": [
    "\"\"\"将张量的值规范化\"\"\"\n",
    "def denorm(x):\n",
    "    out = (x + 1) / 2\n",
    "    return out.clamp(0, 1)\n",
    "\n",
    "def reset_grad():\n",
    "    d_optimizer.zero_grad()\n",
    "    g_optimizer.zero_grad()"
   ]
  },
  {
   "cell_type": "markdown",
   "id": "77126772",
   "metadata": {},
   "source": [
    "# ------------------------------------定义超参数-------------------------------------------------"
   ]
  },
  {
   "cell_type": "code",
   "execution_count": 4,
   "id": "bf7b859f",
   "metadata": {},
   "outputs": [],
   "source": [
    "\"\"\"设置超参数\"\"\"\n",
    "latent_size = 64\n",
    "hidden_size = 256\n",
    "image_size = 784\n",
    "num_epochs = 200\n",
    "batch_size = 100\n",
    "sample_dir = 'sample'"
   ]
  },
  {
   "cell_type": "markdown",
   "id": "a39ad944",
   "metadata": {},
   "source": [
    "# ------------------------------------开始训练-------------------------------------------------"
   ]
  },
  {
   "cell_type": "code",
   "execution_count": 23,
   "id": "d4ecaca6",
   "metadata": {
    "collapsed": true
   },
   "outputs": [
    {
     "name": "stdout",
     "output_type": "stream",
     "text": [
      "Epoch [0/200], Step [200/600], d_loss: 0.2794, g_loss: 3.4786, D(x): 0.92, D(G(z)): 0.15\n",
      "Epoch [0/200], Step [400/600], d_loss: 0.3433, g_loss: 3.3180, D(x): 0.88, D(G(z)): 0.11\n",
      "Epoch [0/200], Step [600/600], d_loss: 0.4557, g_loss: 3.9202, D(x): 0.77, D(G(z)): 0.08\n",
      "Epoch [1/200], Step [200/600], d_loss: 0.2103, g_loss: 3.4889, D(x): 0.93, D(G(z)): 0.10\n",
      "Epoch [1/200], Step [400/600], d_loss: 0.4969, g_loss: 2.9491, D(x): 0.83, D(G(z)): 0.17\n",
      "Epoch [1/200], Step [600/600], d_loss: 0.4181, g_loss: 3.1537, D(x): 0.81, D(G(z)): 0.06\n",
      "Epoch [2/200], Step [200/600], d_loss: 0.3252, g_loss: 2.8327, D(x): 0.92, D(G(z)): 0.16\n",
      "Epoch [2/200], Step [400/600], d_loss: 0.8886, g_loss: 2.3544, D(x): 0.71, D(G(z)): 0.27\n",
      "Epoch [2/200], Step [600/600], d_loss: 0.5131, g_loss: 2.5357, D(x): 0.82, D(G(z)): 0.19\n",
      "Epoch [3/200], Step [200/600], d_loss: 0.5854, g_loss: 2.4500, D(x): 0.80, D(G(z)): 0.17\n",
      "Epoch [3/200], Step [400/600], d_loss: 0.4032, g_loss: 2.8813, D(x): 0.88, D(G(z)): 0.14\n",
      "Epoch [3/200], Step [600/600], d_loss: 0.2343, g_loss: 3.5818, D(x): 0.89, D(G(z)): 0.04\n",
      "Epoch [4/200], Step [200/600], d_loss: 0.3106, g_loss: 3.2547, D(x): 0.91, D(G(z)): 0.14\n",
      "Epoch [4/200], Step [400/600], d_loss: 0.2557, g_loss: 4.7674, D(x): 0.92, D(G(z)): 0.09\n",
      "Epoch [4/200], Step [600/600], d_loss: 0.2842, g_loss: 4.5879, D(x): 0.91, D(G(z)): 0.03\n",
      "Epoch [5/200], Step [200/600], d_loss: 0.3482, g_loss: 4.0071, D(x): 0.92, D(G(z)): 0.09\n",
      "Epoch [5/200], Step [400/600], d_loss: 0.1324, g_loss: 3.3942, D(x): 0.96, D(G(z)): 0.06\n",
      "Epoch [5/200], Step [600/600], d_loss: 0.1651, g_loss: 4.7594, D(x): 0.93, D(G(z)): 0.05\n",
      "Epoch [6/200], Step [200/600], d_loss: 0.1281, g_loss: 5.3117, D(x): 0.98, D(G(z)): 0.09\n",
      "Epoch [6/200], Step [400/600], d_loss: 0.0986, g_loss: 4.5130, D(x): 0.97, D(G(z)): 0.06\n",
      "Epoch [6/200], Step [600/600], d_loss: 0.1128, g_loss: 5.5151, D(x): 0.95, D(G(z)): 0.01\n",
      "Epoch [7/200], Step [200/600], d_loss: 0.1040, g_loss: 5.0344, D(x): 0.97, D(G(z)): 0.05\n",
      "Epoch [7/200], Step [400/600], d_loss: 0.1094, g_loss: 5.5710, D(x): 0.95, D(G(z)): 0.02\n",
      "Epoch [7/200], Step [600/600], d_loss: 0.0940, g_loss: 5.3835, D(x): 0.96, D(G(z)): 0.03\n",
      "Epoch [8/200], Step [200/600], d_loss: 0.4699, g_loss: 7.6368, D(x): 0.95, D(G(z)): 0.19\n",
      "Epoch [8/200], Step [400/600], d_loss: 0.1101, g_loss: 5.8963, D(x): 0.96, D(G(z)): 0.04\n",
      "Epoch [8/200], Step [600/600], d_loss: 0.1575, g_loss: 4.7985, D(x): 0.94, D(G(z)): 0.06\n",
      "Epoch [9/200], Step [200/600], d_loss: 0.2120, g_loss: 4.6389, D(x): 0.92, D(G(z)): 0.06\n",
      "Epoch [9/200], Step [400/600], d_loss: 0.1759, g_loss: 4.5263, D(x): 0.99, D(G(z)): 0.12\n",
      "Epoch [9/200], Step [600/600], d_loss: 0.1446, g_loss: 7.3527, D(x): 0.96, D(G(z)): 0.05\n",
      "Epoch [10/200], Step [200/600], d_loss: 0.1711, g_loss: 4.4457, D(x): 0.96, D(G(z)): 0.09\n",
      "Epoch [10/200], Step [400/600], d_loss: 0.1677, g_loss: 5.1201, D(x): 0.94, D(G(z)): 0.03\n",
      "Epoch [10/200], Step [600/600], d_loss: 0.2306, g_loss: 4.2410, D(x): 0.98, D(G(z)): 0.13\n",
      "Epoch [11/200], Step [200/600], d_loss: 0.1583, g_loss: 4.4332, D(x): 0.92, D(G(z)): 0.03\n",
      "Epoch [11/200], Step [400/600], d_loss: 0.2206, g_loss: 4.2774, D(x): 0.94, D(G(z)): 0.09\n",
      "Epoch [11/200], Step [600/600], d_loss: 0.2525, g_loss: 6.4800, D(x): 0.91, D(G(z)): 0.05\n",
      "Epoch [12/200], Step [200/600], d_loss: 0.1236, g_loss: 5.8184, D(x): 0.96, D(G(z)): 0.05\n",
      "Epoch [12/200], Step [400/600], d_loss: 0.1718, g_loss: 4.2222, D(x): 0.94, D(G(z)): 0.07\n",
      "Epoch [12/200], Step [600/600], d_loss: 0.1995, g_loss: 4.3432, D(x): 0.97, D(G(z)): 0.11\n",
      "Epoch [13/200], Step [200/600], d_loss: 0.1694, g_loss: 3.7045, D(x): 0.95, D(G(z)): 0.07\n",
      "Epoch [13/200], Step [400/600], d_loss: 0.1401, g_loss: 4.9648, D(x): 0.95, D(G(z)): 0.04\n",
      "Epoch [13/200], Step [600/600], d_loss: 0.2899, g_loss: 4.3834, D(x): 0.95, D(G(z)): 0.15\n",
      "Epoch [14/200], Step [200/600], d_loss: 0.3273, g_loss: 5.5537, D(x): 0.89, D(G(z)): 0.01\n",
      "Epoch [14/200], Step [400/600], d_loss: 0.0782, g_loss: 6.2616, D(x): 0.96, D(G(z)): 0.03\n",
      "Epoch [14/200], Step [600/600], d_loss: 0.1939, g_loss: 5.0436, D(x): 0.95, D(G(z)): 0.09\n",
      "Epoch [15/200], Step [200/600], d_loss: 0.3432, g_loss: 7.4039, D(x): 0.89, D(G(z)): 0.00\n",
      "Epoch [15/200], Step [400/600], d_loss: 0.2098, g_loss: 6.6109, D(x): 0.92, D(G(z)): 0.01\n",
      "Epoch [15/200], Step [600/600], d_loss: 0.2439, g_loss: 3.7736, D(x): 0.96, D(G(z)): 0.13\n",
      "Epoch [16/200], Step [200/600], d_loss: 0.3826, g_loss: 4.6313, D(x): 0.97, D(G(z)): 0.17\n",
      "Epoch [16/200], Step [400/600], d_loss: 0.2344, g_loss: 5.0454, D(x): 0.96, D(G(z)): 0.10\n",
      "Epoch [16/200], Step [600/600], d_loss: 0.1456, g_loss: 6.2931, D(x): 0.98, D(G(z)): 0.05\n",
      "Epoch [17/200], Step [200/600], d_loss: 0.1397, g_loss: 6.1520, D(x): 0.97, D(G(z)): 0.04\n",
      "Epoch [17/200], Step [400/600], d_loss: 0.1425, g_loss: 5.3043, D(x): 0.96, D(G(z)): 0.06\n",
      "Epoch [17/200], Step [600/600], d_loss: 0.1428, g_loss: 5.3966, D(x): 0.96, D(G(z)): 0.05\n",
      "Epoch [18/200], Step [200/600], d_loss: 0.1278, g_loss: 5.0217, D(x): 0.96, D(G(z)): 0.07\n",
      "Epoch [18/200], Step [400/600], d_loss: 0.1945, g_loss: 7.1471, D(x): 0.96, D(G(z)): 0.08\n",
      "Epoch [18/200], Step [600/600], d_loss: 0.4249, g_loss: 4.4386, D(x): 0.89, D(G(z)): 0.06\n",
      "Epoch [19/200], Step [200/600], d_loss: 0.2601, g_loss: 3.6521, D(x): 0.96, D(G(z)): 0.15\n",
      "Epoch [19/200], Step [400/600], d_loss: 0.2309, g_loss: 4.4231, D(x): 0.95, D(G(z)): 0.07\n",
      "Epoch [19/200], Step [600/600], d_loss: 0.3616, g_loss: 5.8357, D(x): 0.88, D(G(z)): 0.02\n",
      "Epoch [20/200], Step [200/600], d_loss: 0.3180, g_loss: 4.9211, D(x): 0.92, D(G(z)): 0.11\n",
      "Epoch [20/200], Step [400/600], d_loss: 0.5412, g_loss: 3.6223, D(x): 0.97, D(G(z)): 0.26\n",
      "Epoch [20/200], Step [600/600], d_loss: 0.2809, g_loss: 4.4352, D(x): 0.93, D(G(z)): 0.09\n",
      "Epoch [21/200], Step [200/600], d_loss: 0.2488, g_loss: 3.5327, D(x): 0.96, D(G(z)): 0.13\n",
      "Epoch [21/200], Step [400/600], d_loss: 0.3221, g_loss: 4.1732, D(x): 0.89, D(G(z)): 0.04\n",
      "Epoch [21/200], Step [600/600], d_loss: 0.3431, g_loss: 4.3991, D(x): 0.88, D(G(z)): 0.05\n",
      "Epoch [22/200], Step [200/600], d_loss: 0.2272, g_loss: 4.1676, D(x): 0.95, D(G(z)): 0.11\n",
      "Epoch [22/200], Step [400/600], d_loss: 0.3044, g_loss: 5.5878, D(x): 0.92, D(G(z)): 0.07\n",
      "Epoch [22/200], Step [600/600], d_loss: 0.2969, g_loss: 5.7138, D(x): 0.89, D(G(z)): 0.04\n",
      "Epoch [23/200], Step [200/600], d_loss: 0.2471, g_loss: 5.0783, D(x): 0.95, D(G(z)): 0.11\n",
      "Epoch [23/200], Step [400/600], d_loss: 0.3653, g_loss: 5.8751, D(x): 0.85, D(G(z)): 0.04\n",
      "Epoch [23/200], Step [600/600], d_loss: 0.2686, g_loss: 4.2381, D(x): 0.96, D(G(z)): 0.15\n",
      "Epoch [24/200], Step [200/600], d_loss: 0.2860, g_loss: 3.4876, D(x): 0.90, D(G(z)): 0.09\n",
      "Epoch [24/200], Step [400/600], d_loss: 0.2216, g_loss: 4.0787, D(x): 0.92, D(G(z)): 0.06\n",
      "Epoch [24/200], Step [600/600], d_loss: 0.3943, g_loss: 3.8622, D(x): 0.90, D(G(z)): 0.11\n",
      "Epoch [25/200], Step [200/600], d_loss: 0.3029, g_loss: 5.8544, D(x): 0.89, D(G(z)): 0.07\n",
      "Epoch [25/200], Step [400/600], d_loss: 0.3082, g_loss: 4.6283, D(x): 0.94, D(G(z)): 0.11\n",
      "Epoch [25/200], Step [600/600], d_loss: 0.2326, g_loss: 4.6792, D(x): 0.95, D(G(z)): 0.09\n",
      "Epoch [26/200], Step [200/600], d_loss: 0.1603, g_loss: 3.9423, D(x): 0.94, D(G(z)): 0.08\n",
      "Epoch [26/200], Step [400/600], d_loss: 0.3832, g_loss: 3.5260, D(x): 0.88, D(G(z)): 0.07\n",
      "Epoch [26/200], Step [600/600], d_loss: 0.2833, g_loss: 4.0890, D(x): 0.94, D(G(z)): 0.15\n",
      "Epoch [27/200], Step [200/600], d_loss: 0.3144, g_loss: 4.0306, D(x): 0.94, D(G(z)): 0.12\n",
      "Epoch [27/200], Step [400/600], d_loss: 0.4060, g_loss: 4.9576, D(x): 0.88, D(G(z)): 0.08\n",
      "Epoch [27/200], Step [600/600], d_loss: 0.2626, g_loss: 3.5547, D(x): 0.93, D(G(z)): 0.11\n",
      "Epoch [28/200], Step [200/600], d_loss: 0.3759, g_loss: 4.0234, D(x): 0.94, D(G(z)): 0.18\n",
      "Epoch [28/200], Step [400/600], d_loss: 0.3948, g_loss: 3.9172, D(x): 0.90, D(G(z)): 0.11\n",
      "Epoch [28/200], Step [600/600], d_loss: 0.5263, g_loss: 3.9414, D(x): 0.83, D(G(z)): 0.11\n",
      "Epoch [29/200], Step [200/600], d_loss: 0.3617, g_loss: 4.4972, D(x): 0.84, D(G(z)): 0.05\n",
      "Epoch [29/200], Step [400/600], d_loss: 0.3890, g_loss: 3.2927, D(x): 0.86, D(G(z)): 0.10\n",
      "Epoch [29/200], Step [600/600], d_loss: 0.3993, g_loss: 3.7346, D(x): 0.88, D(G(z)): 0.09\n",
      "Epoch [30/200], Step [200/600], d_loss: 0.3320, g_loss: 4.5887, D(x): 0.88, D(G(z)): 0.08\n",
      "Epoch [30/200], Step [400/600], d_loss: 0.3667, g_loss: 5.2776, D(x): 0.87, D(G(z)): 0.07\n"
     ]
    },
    {
     "name": "stdout",
     "output_type": "stream",
     "text": [
      "Epoch [30/200], Step [600/600], d_loss: 0.4635, g_loss: 4.6277, D(x): 0.88, D(G(z)): 0.14\n",
      "Epoch [31/200], Step [200/600], d_loss: 0.5610, g_loss: 3.1184, D(x): 0.96, D(G(z)): 0.32\n",
      "Epoch [31/200], Step [400/600], d_loss: 0.3943, g_loss: 3.2610, D(x): 0.86, D(G(z)): 0.08\n",
      "Epoch [31/200], Step [600/600], d_loss: 0.3821, g_loss: 2.6224, D(x): 0.89, D(G(z)): 0.13\n",
      "Epoch [32/200], Step [200/600], d_loss: 0.3715, g_loss: 3.7759, D(x): 0.87, D(G(z)): 0.11\n",
      "Epoch [32/200], Step [400/600], d_loss: 0.4365, g_loss: 4.0775, D(x): 0.86, D(G(z)): 0.12\n",
      "Epoch [32/200], Step [600/600], d_loss: 0.2625, g_loss: 4.2929, D(x): 0.90, D(G(z)): 0.09\n",
      "Epoch [33/200], Step [200/600], d_loss: 0.3368, g_loss: 4.7470, D(x): 0.86, D(G(z)): 0.05\n",
      "Epoch [33/200], Step [400/600], d_loss: 0.3950, g_loss: 3.8537, D(x): 0.89, D(G(z)): 0.15\n",
      "Epoch [33/200], Step [600/600], d_loss: 0.5643, g_loss: 4.2796, D(x): 0.83, D(G(z)): 0.07\n",
      "Epoch [34/200], Step [200/600], d_loss: 0.3852, g_loss: 4.7360, D(x): 0.89, D(G(z)): 0.08\n",
      "Epoch [34/200], Step [400/600], d_loss: 0.2386, g_loss: 4.6317, D(x): 0.91, D(G(z)): 0.07\n",
      "Epoch [34/200], Step [600/600], d_loss: 0.2323, g_loss: 4.6321, D(x): 0.93, D(G(z)): 0.10\n",
      "Epoch [35/200], Step [200/600], d_loss: 0.3243, g_loss: 4.2291, D(x): 0.91, D(G(z)): 0.06\n",
      "Epoch [35/200], Step [400/600], d_loss: 0.1756, g_loss: 5.5797, D(x): 0.95, D(G(z)): 0.07\n",
      "Epoch [35/200], Step [600/600], d_loss: 0.4572, g_loss: 7.7091, D(x): 0.81, D(G(z)): 0.00\n",
      "Epoch [36/200], Step [200/600], d_loss: 0.3005, g_loss: 5.9249, D(x): 0.85, D(G(z)): 0.03\n",
      "Epoch [36/200], Step [400/600], d_loss: 0.2374, g_loss: 4.7012, D(x): 0.91, D(G(z)): 0.09\n",
      "Epoch [36/200], Step [600/600], d_loss: 0.7831, g_loss: 3.3689, D(x): 0.77, D(G(z)): 0.07\n",
      "Epoch [37/200], Step [200/600], d_loss: 0.4478, g_loss: 2.4026, D(x): 0.89, D(G(z)): 0.19\n",
      "Epoch [37/200], Step [400/600], d_loss: 0.7652, g_loss: 2.9589, D(x): 0.88, D(G(z)): 0.28\n",
      "Epoch [37/200], Step [600/600], d_loss: 0.4864, g_loss: 2.9103, D(x): 0.79, D(G(z)): 0.09\n",
      "Epoch [38/200], Step [200/600], d_loss: 0.5525, g_loss: 1.7663, D(x): 0.78, D(G(z)): 0.11\n",
      "Epoch [38/200], Step [400/600], d_loss: 0.5375, g_loss: 2.5957, D(x): 0.80, D(G(z)): 0.08\n",
      "Epoch [38/200], Step [600/600], d_loss: 0.8287, g_loss: 2.8252, D(x): 0.87, D(G(z)): 0.29\n",
      "Epoch [39/200], Step [200/600], d_loss: 0.5191, g_loss: 3.8868, D(x): 0.79, D(G(z)): 0.09\n",
      "Epoch [39/200], Step [400/600], d_loss: 0.7022, g_loss: 1.9540, D(x): 0.85, D(G(z)): 0.26\n",
      "Epoch [39/200], Step [600/600], d_loss: 0.5764, g_loss: 2.7578, D(x): 0.82, D(G(z)): 0.14\n",
      "Epoch [40/200], Step [200/600], d_loss: 0.5308, g_loss: 2.7772, D(x): 0.79, D(G(z)): 0.11\n",
      "Epoch [40/200], Step [400/600], d_loss: 0.5276, g_loss: 1.9536, D(x): 0.81, D(G(z)): 0.15\n",
      "Epoch [40/200], Step [600/600], d_loss: 0.4712, g_loss: 2.4969, D(x): 0.85, D(G(z)): 0.19\n",
      "Epoch [41/200], Step [200/600], d_loss: 0.7709, g_loss: 2.5921, D(x): 0.89, D(G(z)): 0.34\n",
      "Epoch [41/200], Step [400/600], d_loss: 0.5663, g_loss: 2.5830, D(x): 0.84, D(G(z)): 0.20\n",
      "Epoch [41/200], Step [600/600], d_loss: 0.7744, g_loss: 1.7836, D(x): 0.79, D(G(z)): 0.27\n",
      "Epoch [42/200], Step [200/600], d_loss: 0.5568, g_loss: 2.3165, D(x): 0.84, D(G(z)): 0.18\n",
      "Epoch [42/200], Step [400/600], d_loss: 0.6906, g_loss: 2.1814, D(x): 0.81, D(G(z)): 0.24\n",
      "Epoch [42/200], Step [600/600], d_loss: 0.6225, g_loss: 3.1630, D(x): 0.78, D(G(z)): 0.12\n",
      "Epoch [43/200], Step [200/600], d_loss: 0.4463, g_loss: 2.9461, D(x): 0.88, D(G(z)): 0.19\n",
      "Epoch [43/200], Step [400/600], d_loss: 0.4661, g_loss: 2.4384, D(x): 0.82, D(G(z)): 0.14\n",
      "Epoch [43/200], Step [600/600], d_loss: 0.4953, g_loss: 2.9472, D(x): 0.83, D(G(z)): 0.15\n",
      "Epoch [44/200], Step [200/600], d_loss: 0.5331, g_loss: 3.0817, D(x): 0.83, D(G(z)): 0.18\n",
      "Epoch [44/200], Step [400/600], d_loss: 0.4427, g_loss: 2.7417, D(x): 0.84, D(G(z)): 0.11\n",
      "Epoch [44/200], Step [600/600], d_loss: 0.4597, g_loss: 2.6584, D(x): 0.85, D(G(z)): 0.17\n",
      "Epoch [45/200], Step [200/600], d_loss: 0.5201, g_loss: 2.6479, D(x): 0.86, D(G(z)): 0.18\n",
      "Epoch [45/200], Step [400/600], d_loss: 0.4081, g_loss: 3.8599, D(x): 0.87, D(G(z)): 0.14\n",
      "Epoch [45/200], Step [600/600], d_loss: 0.5324, g_loss: 3.5371, D(x): 0.82, D(G(z)): 0.11\n",
      "Epoch [46/200], Step [200/600], d_loss: 0.5078, g_loss: 2.6963, D(x): 0.87, D(G(z)): 0.19\n",
      "Epoch [46/200], Step [400/600], d_loss: 0.5082, g_loss: 2.8591, D(x): 0.86, D(G(z)): 0.15\n",
      "Epoch [46/200], Step [600/600], d_loss: 0.3267, g_loss: 4.1844, D(x): 0.90, D(G(z)): 0.13\n",
      "Epoch [47/200], Step [200/600], d_loss: 0.5917, g_loss: 3.8960, D(x): 0.83, D(G(z)): 0.17\n",
      "Epoch [47/200], Step [400/600], d_loss: 0.4472, g_loss: 3.4380, D(x): 0.86, D(G(z)): 0.16\n",
      "Epoch [47/200], Step [600/600], d_loss: 0.3467, g_loss: 4.6224, D(x): 0.92, D(G(z)): 0.16\n",
      "Epoch [48/200], Step [200/600], d_loss: 0.4245, g_loss: 2.7342, D(x): 0.87, D(G(z)): 0.15\n",
      "Epoch [48/200], Step [400/600], d_loss: 0.4316, g_loss: 2.7028, D(x): 0.88, D(G(z)): 0.13\n",
      "Epoch [48/200], Step [600/600], d_loss: 0.5609, g_loss: 3.0212, D(x): 0.86, D(G(z)): 0.20\n",
      "Epoch [49/200], Step [200/600], d_loss: 0.4492, g_loss: 2.2056, D(x): 0.84, D(G(z)): 0.12\n",
      "Epoch [49/200], Step [400/600], d_loss: 0.7409, g_loss: 2.9202, D(x): 0.80, D(G(z)): 0.14\n",
      "Epoch [49/200], Step [600/600], d_loss: 0.4441, g_loss: 2.7369, D(x): 0.90, D(G(z)): 0.22\n",
      "Epoch [50/200], Step [200/600], d_loss: 0.8407, g_loss: 2.3097, D(x): 0.89, D(G(z)): 0.37\n",
      "Epoch [50/200], Step [400/600], d_loss: 0.5539, g_loss: 3.2517, D(x): 0.82, D(G(z)): 0.17\n",
      "Epoch [50/200], Step [600/600], d_loss: 0.8237, g_loss: 2.1568, D(x): 0.75, D(G(z)): 0.20\n",
      "Epoch [51/200], Step [200/600], d_loss: 0.4773, g_loss: 2.6934, D(x): 0.79, D(G(z)): 0.11\n",
      "Epoch [51/200], Step [400/600], d_loss: 0.6671, g_loss: 3.5485, D(x): 0.72, D(G(z)): 0.08\n",
      "Epoch [51/200], Step [600/600], d_loss: 0.6074, g_loss: 2.6195, D(x): 0.84, D(G(z)): 0.25\n",
      "Epoch [52/200], Step [200/600], d_loss: 0.5505, g_loss: 1.8292, D(x): 0.88, D(G(z)): 0.24\n",
      "Epoch [52/200], Step [400/600], d_loss: 0.7746, g_loss: 2.4692, D(x): 0.81, D(G(z)): 0.27\n",
      "Epoch [52/200], Step [600/600], d_loss: 0.7387, g_loss: 1.7442, D(x): 0.75, D(G(z)): 0.19\n",
      "Epoch [53/200], Step [200/600], d_loss: 0.7968, g_loss: 2.3548, D(x): 0.72, D(G(z)): 0.19\n",
      "Epoch [53/200], Step [400/600], d_loss: 0.4392, g_loss: 2.0689, D(x): 0.84, D(G(z)): 0.14\n",
      "Epoch [53/200], Step [600/600], d_loss: 1.0418, g_loss: 2.5242, D(x): 0.64, D(G(z)): 0.12\n",
      "Epoch [54/200], Step [200/600], d_loss: 0.6492, g_loss: 2.6170, D(x): 0.76, D(G(z)): 0.16\n",
      "Epoch [54/200], Step [400/600], d_loss: 0.9760, g_loss: 2.1965, D(x): 0.66, D(G(z)): 0.16\n",
      "Epoch [54/200], Step [600/600], d_loss: 0.6913, g_loss: 2.1233, D(x): 0.76, D(G(z)): 0.18\n",
      "Epoch [55/200], Step [200/600], d_loss: 0.5458, g_loss: 2.5430, D(x): 0.85, D(G(z)): 0.23\n",
      "Epoch [55/200], Step [400/600], d_loss: 0.6565, g_loss: 2.7334, D(x): 0.71, D(G(z)): 0.11\n",
      "Epoch [55/200], Step [600/600], d_loss: 0.5436, g_loss: 2.5628, D(x): 0.84, D(G(z)): 0.19\n",
      "Epoch [56/200], Step [200/600], d_loss: 0.8252, g_loss: 2.2047, D(x): 0.79, D(G(z)): 0.27\n",
      "Epoch [56/200], Step [400/600], d_loss: 0.5854, g_loss: 3.2146, D(x): 0.82, D(G(z)): 0.18\n",
      "Epoch [56/200], Step [600/600], d_loss: 0.7163, g_loss: 2.3403, D(x): 0.78, D(G(z)): 0.18\n",
      "Epoch [57/200], Step [200/600], d_loss: 0.9723, g_loss: 2.1975, D(x): 0.81, D(G(z)): 0.32\n",
      "Epoch [57/200], Step [400/600], d_loss: 0.4446, g_loss: 4.0690, D(x): 0.84, D(G(z)): 0.10\n",
      "Epoch [57/200], Step [600/600], d_loss: 0.7943, g_loss: 2.4309, D(x): 0.71, D(G(z)): 0.16\n",
      "Epoch [58/200], Step [200/600], d_loss: 0.4891, g_loss: 3.5987, D(x): 0.77, D(G(z)): 0.10\n",
      "Epoch [58/200], Step [400/600], d_loss: 0.4213, g_loss: 2.7618, D(x): 0.87, D(G(z)): 0.16\n",
      "Epoch [58/200], Step [600/600], d_loss: 0.6179, g_loss: 2.7460, D(x): 0.78, D(G(z)): 0.15\n",
      "Epoch [59/200], Step [200/600], d_loss: 0.5541, g_loss: 3.4755, D(x): 0.79, D(G(z)): 0.11\n",
      "Epoch [59/200], Step [400/600], d_loss: 0.4318, g_loss: 3.6154, D(x): 0.84, D(G(z)): 0.12\n",
      "Epoch [59/200], Step [600/600], d_loss: 0.6233, g_loss: 3.6368, D(x): 0.77, D(G(z)): 0.14\n",
      "Epoch [60/200], Step [200/600], d_loss: 0.5911, g_loss: 2.4944, D(x): 0.86, D(G(z)): 0.22\n",
      "Epoch [60/200], Step [400/600], d_loss: 0.4911, g_loss: 3.2631, D(x): 0.89, D(G(z)): 0.20\n",
      "Epoch [60/200], Step [600/600], d_loss: 0.7456, g_loss: 2.8887, D(x): 0.75, D(G(z)): 0.18\n",
      "Epoch [61/200], Step [200/600], d_loss: 0.4811, g_loss: 2.7308, D(x): 0.83, D(G(z)): 0.16\n"
     ]
    },
    {
     "name": "stdout",
     "output_type": "stream",
     "text": [
      "Epoch [61/200], Step [400/600], d_loss: 0.6353, g_loss: 2.0085, D(x): 0.74, D(G(z)): 0.15\n",
      "Epoch [61/200], Step [600/600], d_loss: 0.5898, g_loss: 2.0913, D(x): 0.76, D(G(z)): 0.16\n",
      "Epoch [62/200], Step [200/600], d_loss: 0.6879, g_loss: 2.6199, D(x): 0.71, D(G(z)): 0.14\n",
      "Epoch [62/200], Step [400/600], d_loss: 0.7294, g_loss: 1.9592, D(x): 0.77, D(G(z)): 0.24\n",
      "Epoch [62/200], Step [600/600], d_loss: 0.5393, g_loss: 2.1617, D(x): 0.81, D(G(z)): 0.16\n",
      "Epoch [63/200], Step [200/600], d_loss: 0.6856, g_loss: 2.5648, D(x): 0.75, D(G(z)): 0.19\n",
      "Epoch [63/200], Step [400/600], d_loss: 0.8805, g_loss: 1.9476, D(x): 0.80, D(G(z)): 0.33\n",
      "Epoch [63/200], Step [600/600], d_loss: 0.8309, g_loss: 1.8976, D(x): 0.76, D(G(z)): 0.29\n",
      "Epoch [64/200], Step [200/600], d_loss: 0.8854, g_loss: 2.1233, D(x): 0.76, D(G(z)): 0.30\n",
      "Epoch [64/200], Step [400/600], d_loss: 0.7388, g_loss: 1.9180, D(x): 0.73, D(G(z)): 0.19\n",
      "Epoch [64/200], Step [600/600], d_loss: 0.7430, g_loss: 1.5674, D(x): 0.74, D(G(z)): 0.19\n",
      "Epoch [65/200], Step [200/600], d_loss: 0.6278, g_loss: 2.8199, D(x): 0.73, D(G(z)): 0.16\n",
      "Epoch [65/200], Step [400/600], d_loss: 0.8022, g_loss: 2.0501, D(x): 0.67, D(G(z)): 0.18\n",
      "Epoch [65/200], Step [600/600], d_loss: 0.8096, g_loss: 1.8867, D(x): 0.76, D(G(z)): 0.26\n",
      "Epoch [66/200], Step [200/600], d_loss: 0.4311, g_loss: 2.5200, D(x): 0.86, D(G(z)): 0.19\n",
      "Epoch [66/200], Step [400/600], d_loss: 0.7365, g_loss: 1.7545, D(x): 0.75, D(G(z)): 0.23\n",
      "Epoch [66/200], Step [600/600], d_loss: 0.4923, g_loss: 1.7792, D(x): 0.84, D(G(z)): 0.21\n",
      "Epoch [67/200], Step [200/600], d_loss: 0.6449, g_loss: 2.1970, D(x): 0.80, D(G(z)): 0.24\n"
     ]
    },
    {
     "ename": "KeyboardInterrupt",
     "evalue": "",
     "output_type": "error",
     "traceback": [
      "\u001b[1;31m---------------------------------------------------------------------------\u001b[0m",
      "\u001b[1;31mKeyboardInterrupt\u001b[0m                         Traceback (most recent call last)",
      "Cell \u001b[1;32mIn[23], line 4\u001b[0m\n\u001b[0;32m      2\u001b[0m total_step \u001b[38;5;241m=\u001b[39m \u001b[38;5;28mlen\u001b[39m(data_loader)\n\u001b[0;32m      3\u001b[0m \u001b[38;5;28;01mfor\u001b[39;00m epoch \u001b[38;5;129;01min\u001b[39;00m \u001b[38;5;28mrange\u001b[39m(num_epochs):\n\u001b[1;32m----> 4\u001b[0m     \u001b[38;5;28;01mfor\u001b[39;00m i, (images, _) \u001b[38;5;129;01min\u001b[39;00m \u001b[38;5;28menumerate\u001b[39m(data_loader):\n\u001b[0;32m      5\u001b[0m         \u001b[38;5;66;03m# 将图片进行调整，并转移到gpu中\u001b[39;00m\n\u001b[0;32m      6\u001b[0m         images \u001b[38;5;241m=\u001b[39m images\u001b[38;5;241m.\u001b[39mreshape(batch_size, \u001b[38;5;241m-\u001b[39m\u001b[38;5;241m1\u001b[39m)\u001b[38;5;241m.\u001b[39mto(device)\n\u001b[0;32m      8\u001b[0m         \u001b[38;5;66;03m# 生成真实和虚假的标签\u001b[39;00m\n",
      "File \u001b[1;32mD:\\miniconda\\envs\\machine_zzh\\lib\\site-packages\\torch\\utils\\data\\dataloader.py:633\u001b[0m, in \u001b[0;36m_BaseDataLoaderIter.__next__\u001b[1;34m(self)\u001b[0m\n\u001b[0;32m    630\u001b[0m \u001b[38;5;28;01mif\u001b[39;00m \u001b[38;5;28mself\u001b[39m\u001b[38;5;241m.\u001b[39m_sampler_iter \u001b[38;5;129;01mis\u001b[39;00m \u001b[38;5;28;01mNone\u001b[39;00m:\n\u001b[0;32m    631\u001b[0m     \u001b[38;5;66;03m# TODO(https://github.com/pytorch/pytorch/issues/76750)\u001b[39;00m\n\u001b[0;32m    632\u001b[0m     \u001b[38;5;28mself\u001b[39m\u001b[38;5;241m.\u001b[39m_reset()  \u001b[38;5;66;03m# type: ignore[call-arg]\u001b[39;00m\n\u001b[1;32m--> 633\u001b[0m data \u001b[38;5;241m=\u001b[39m \u001b[38;5;28;43mself\u001b[39;49m\u001b[38;5;241;43m.\u001b[39;49m\u001b[43m_next_data\u001b[49m\u001b[43m(\u001b[49m\u001b[43m)\u001b[49m\n\u001b[0;32m    634\u001b[0m \u001b[38;5;28mself\u001b[39m\u001b[38;5;241m.\u001b[39m_num_yielded \u001b[38;5;241m+\u001b[39m\u001b[38;5;241m=\u001b[39m \u001b[38;5;241m1\u001b[39m\n\u001b[0;32m    635\u001b[0m \u001b[38;5;28;01mif\u001b[39;00m \u001b[38;5;28mself\u001b[39m\u001b[38;5;241m.\u001b[39m_dataset_kind \u001b[38;5;241m==\u001b[39m _DatasetKind\u001b[38;5;241m.\u001b[39mIterable \u001b[38;5;129;01mand\u001b[39;00m \\\n\u001b[0;32m    636\u001b[0m         \u001b[38;5;28mself\u001b[39m\u001b[38;5;241m.\u001b[39m_IterableDataset_len_called \u001b[38;5;129;01mis\u001b[39;00m \u001b[38;5;129;01mnot\u001b[39;00m \u001b[38;5;28;01mNone\u001b[39;00m \u001b[38;5;129;01mand\u001b[39;00m \\\n\u001b[0;32m    637\u001b[0m         \u001b[38;5;28mself\u001b[39m\u001b[38;5;241m.\u001b[39m_num_yielded \u001b[38;5;241m>\u001b[39m \u001b[38;5;28mself\u001b[39m\u001b[38;5;241m.\u001b[39m_IterableDataset_len_called:\n",
      "File \u001b[1;32mD:\\miniconda\\envs\\machine_zzh\\lib\\site-packages\\torch\\utils\\data\\dataloader.py:677\u001b[0m, in \u001b[0;36m_SingleProcessDataLoaderIter._next_data\u001b[1;34m(self)\u001b[0m\n\u001b[0;32m    675\u001b[0m \u001b[38;5;28;01mdef\u001b[39;00m \u001b[38;5;21m_next_data\u001b[39m(\u001b[38;5;28mself\u001b[39m):\n\u001b[0;32m    676\u001b[0m     index \u001b[38;5;241m=\u001b[39m \u001b[38;5;28mself\u001b[39m\u001b[38;5;241m.\u001b[39m_next_index()  \u001b[38;5;66;03m# may raise StopIteration\u001b[39;00m\n\u001b[1;32m--> 677\u001b[0m     data \u001b[38;5;241m=\u001b[39m \u001b[38;5;28;43mself\u001b[39;49m\u001b[38;5;241;43m.\u001b[39;49m\u001b[43m_dataset_fetcher\u001b[49m\u001b[38;5;241;43m.\u001b[39;49m\u001b[43mfetch\u001b[49m\u001b[43m(\u001b[49m\u001b[43mindex\u001b[49m\u001b[43m)\u001b[49m  \u001b[38;5;66;03m# may raise StopIteration\u001b[39;00m\n\u001b[0;32m    678\u001b[0m     \u001b[38;5;28;01mif\u001b[39;00m \u001b[38;5;28mself\u001b[39m\u001b[38;5;241m.\u001b[39m_pin_memory:\n\u001b[0;32m    679\u001b[0m         data \u001b[38;5;241m=\u001b[39m _utils\u001b[38;5;241m.\u001b[39mpin_memory\u001b[38;5;241m.\u001b[39mpin_memory(data, \u001b[38;5;28mself\u001b[39m\u001b[38;5;241m.\u001b[39m_pin_memory_device)\n",
      "File \u001b[1;32mD:\\miniconda\\envs\\machine_zzh\\lib\\site-packages\\torch\\utils\\data\\_utils\\fetch.py:51\u001b[0m, in \u001b[0;36m_MapDatasetFetcher.fetch\u001b[1;34m(self, possibly_batched_index)\u001b[0m\n\u001b[0;32m     49\u001b[0m         data \u001b[38;5;241m=\u001b[39m \u001b[38;5;28mself\u001b[39m\u001b[38;5;241m.\u001b[39mdataset\u001b[38;5;241m.\u001b[39m__getitems__(possibly_batched_index)\n\u001b[0;32m     50\u001b[0m     \u001b[38;5;28;01melse\u001b[39;00m:\n\u001b[1;32m---> 51\u001b[0m         data \u001b[38;5;241m=\u001b[39m [\u001b[38;5;28mself\u001b[39m\u001b[38;5;241m.\u001b[39mdataset[idx] \u001b[38;5;28;01mfor\u001b[39;00m idx \u001b[38;5;129;01min\u001b[39;00m possibly_batched_index]\n\u001b[0;32m     52\u001b[0m \u001b[38;5;28;01melse\u001b[39;00m:\n\u001b[0;32m     53\u001b[0m     data \u001b[38;5;241m=\u001b[39m \u001b[38;5;28mself\u001b[39m\u001b[38;5;241m.\u001b[39mdataset[possibly_batched_index]\n",
      "File \u001b[1;32mD:\\miniconda\\envs\\machine_zzh\\lib\\site-packages\\torch\\utils\\data\\_utils\\fetch.py:51\u001b[0m, in \u001b[0;36m<listcomp>\u001b[1;34m(.0)\u001b[0m\n\u001b[0;32m     49\u001b[0m         data \u001b[38;5;241m=\u001b[39m \u001b[38;5;28mself\u001b[39m\u001b[38;5;241m.\u001b[39mdataset\u001b[38;5;241m.\u001b[39m__getitems__(possibly_batched_index)\n\u001b[0;32m     50\u001b[0m     \u001b[38;5;28;01melse\u001b[39;00m:\n\u001b[1;32m---> 51\u001b[0m         data \u001b[38;5;241m=\u001b[39m [\u001b[38;5;28;43mself\u001b[39;49m\u001b[38;5;241;43m.\u001b[39;49m\u001b[43mdataset\u001b[49m\u001b[43m[\u001b[49m\u001b[43midx\u001b[49m\u001b[43m]\u001b[49m \u001b[38;5;28;01mfor\u001b[39;00m idx \u001b[38;5;129;01min\u001b[39;00m possibly_batched_index]\n\u001b[0;32m     52\u001b[0m \u001b[38;5;28;01melse\u001b[39;00m:\n\u001b[0;32m     53\u001b[0m     data \u001b[38;5;241m=\u001b[39m \u001b[38;5;28mself\u001b[39m\u001b[38;5;241m.\u001b[39mdataset[possibly_batched_index]\n",
      "File \u001b[1;32mD:\\miniconda\\envs\\machine_zzh\\lib\\site-packages\\torchvision\\datasets\\mnist.py:145\u001b[0m, in \u001b[0;36mMNIST.__getitem__\u001b[1;34m(self, index)\u001b[0m\n\u001b[0;32m    142\u001b[0m img \u001b[38;5;241m=\u001b[39m Image\u001b[38;5;241m.\u001b[39mfromarray(img\u001b[38;5;241m.\u001b[39mnumpy(), mode\u001b[38;5;241m=\u001b[39m\u001b[38;5;124m\"\u001b[39m\u001b[38;5;124mL\u001b[39m\u001b[38;5;124m\"\u001b[39m)\n\u001b[0;32m    144\u001b[0m \u001b[38;5;28;01mif\u001b[39;00m \u001b[38;5;28mself\u001b[39m\u001b[38;5;241m.\u001b[39mtransform \u001b[38;5;129;01mis\u001b[39;00m \u001b[38;5;129;01mnot\u001b[39;00m \u001b[38;5;28;01mNone\u001b[39;00m:\n\u001b[1;32m--> 145\u001b[0m     img \u001b[38;5;241m=\u001b[39m \u001b[38;5;28;43mself\u001b[39;49m\u001b[38;5;241;43m.\u001b[39;49m\u001b[43mtransform\u001b[49m\u001b[43m(\u001b[49m\u001b[43mimg\u001b[49m\u001b[43m)\u001b[49m\n\u001b[0;32m    147\u001b[0m \u001b[38;5;28;01mif\u001b[39;00m \u001b[38;5;28mself\u001b[39m\u001b[38;5;241m.\u001b[39mtarget_transform \u001b[38;5;129;01mis\u001b[39;00m \u001b[38;5;129;01mnot\u001b[39;00m \u001b[38;5;28;01mNone\u001b[39;00m:\n\u001b[0;32m    148\u001b[0m     target \u001b[38;5;241m=\u001b[39m \u001b[38;5;28mself\u001b[39m\u001b[38;5;241m.\u001b[39mtarget_transform(target)\n",
      "File \u001b[1;32mD:\\miniconda\\envs\\machine_zzh\\lib\\site-packages\\torchvision\\transforms\\transforms.py:95\u001b[0m, in \u001b[0;36mCompose.__call__\u001b[1;34m(self, img)\u001b[0m\n\u001b[0;32m     93\u001b[0m \u001b[38;5;28;01mdef\u001b[39;00m \u001b[38;5;21m__call__\u001b[39m(\u001b[38;5;28mself\u001b[39m, img):\n\u001b[0;32m     94\u001b[0m     \u001b[38;5;28;01mfor\u001b[39;00m t \u001b[38;5;129;01min\u001b[39;00m \u001b[38;5;28mself\u001b[39m\u001b[38;5;241m.\u001b[39mtransforms:\n\u001b[1;32m---> 95\u001b[0m         img \u001b[38;5;241m=\u001b[39m \u001b[43mt\u001b[49m\u001b[43m(\u001b[49m\u001b[43mimg\u001b[49m\u001b[43m)\u001b[49m\n\u001b[0;32m     96\u001b[0m     \u001b[38;5;28;01mreturn\u001b[39;00m img\n",
      "File \u001b[1;32mD:\\miniconda\\envs\\machine_zzh\\lib\\site-packages\\torchvision\\transforms\\transforms.py:137\u001b[0m, in \u001b[0;36mToTensor.__call__\u001b[1;34m(self, pic)\u001b[0m\n\u001b[0;32m    129\u001b[0m \u001b[38;5;28;01mdef\u001b[39;00m \u001b[38;5;21m__call__\u001b[39m(\u001b[38;5;28mself\u001b[39m, pic):\n\u001b[0;32m    130\u001b[0m \u001b[38;5;250m    \u001b[39m\u001b[38;5;124;03m\"\"\"\u001b[39;00m\n\u001b[0;32m    131\u001b[0m \u001b[38;5;124;03m    Args:\u001b[39;00m\n\u001b[0;32m    132\u001b[0m \u001b[38;5;124;03m        pic (PIL Image or numpy.ndarray): Image to be converted to tensor.\u001b[39;00m\n\u001b[1;32m   (...)\u001b[0m\n\u001b[0;32m    135\u001b[0m \u001b[38;5;124;03m        Tensor: Converted image.\u001b[39;00m\n\u001b[0;32m    136\u001b[0m \u001b[38;5;124;03m    \"\"\"\u001b[39;00m\n\u001b[1;32m--> 137\u001b[0m     \u001b[38;5;28;01mreturn\u001b[39;00m \u001b[43mF\u001b[49m\u001b[38;5;241;43m.\u001b[39;49m\u001b[43mto_tensor\u001b[49m\u001b[43m(\u001b[49m\u001b[43mpic\u001b[49m\u001b[43m)\u001b[49m\n",
      "File \u001b[1;32mD:\\miniconda\\envs\\machine_zzh\\lib\\site-packages\\torchvision\\transforms\\functional.py:172\u001b[0m, in \u001b[0;36mto_tensor\u001b[1;34m(pic)\u001b[0m\n\u001b[0;32m    170\u001b[0m img \u001b[38;5;241m=\u001b[39m img\u001b[38;5;241m.\u001b[39mview(pic\u001b[38;5;241m.\u001b[39msize[\u001b[38;5;241m1\u001b[39m], pic\u001b[38;5;241m.\u001b[39msize[\u001b[38;5;241m0\u001b[39m], F_pil\u001b[38;5;241m.\u001b[39mget_image_num_channels(pic))\n\u001b[0;32m    171\u001b[0m \u001b[38;5;66;03m# put it from HWC to CHW format\u001b[39;00m\n\u001b[1;32m--> 172\u001b[0m img \u001b[38;5;241m=\u001b[39m \u001b[43mimg\u001b[49m\u001b[38;5;241;43m.\u001b[39;49m\u001b[43mpermute\u001b[49m\u001b[43m(\u001b[49m\u001b[43m(\u001b[49m\u001b[38;5;241;43m2\u001b[39;49m\u001b[43m,\u001b[49m\u001b[43m \u001b[49m\u001b[38;5;241;43m0\u001b[39;49m\u001b[43m,\u001b[49m\u001b[43m \u001b[49m\u001b[38;5;241;43m1\u001b[39;49m\u001b[43m)\u001b[49m\u001b[43m)\u001b[49m\u001b[38;5;241m.\u001b[39mcontiguous()\n\u001b[0;32m    173\u001b[0m \u001b[38;5;28;01mif\u001b[39;00m \u001b[38;5;28misinstance\u001b[39m(img, torch\u001b[38;5;241m.\u001b[39mByteTensor):\n\u001b[0;32m    174\u001b[0m     \u001b[38;5;28;01mreturn\u001b[39;00m img\u001b[38;5;241m.\u001b[39mto(dtype\u001b[38;5;241m=\u001b[39mdefault_float_dtype)\u001b[38;5;241m.\u001b[39mdiv(\u001b[38;5;241m255\u001b[39m)\n",
      "\u001b[1;31mKeyboardInterrupt\u001b[0m: "
     ]
    }
   ],
   "source": [
    "\"\"\"训练模型\"\"\"\n",
    "total_step = len(data_loader)\n",
    "for epoch in range(num_epochs):\n",
    "    for i, (images, _) in enumerate(data_loader):\n",
    "        # 将图片进行调整，并转移到gpu中\n",
    "        images = images.reshape(batch_size, -1).to(device)\n",
    "        \n",
    "        # 生成真实和虚假的标签\n",
    "        # 标签只有真假之分不需要对应的数字了，所以直接生成就可以！\n",
    "        real_labels = torch.ones(batch_size, 1).to(device) # 真的图片标签都是1\n",
    "        fake_labels = torch.zeros(batch_size, 1).to(device) # 假的图片标签都是0\n",
    "        \n",
    "        \n",
    "        # 训练判别器\n",
    "        outputs = D(images)\n",
    "        d_loss_real = criterion(outputs, real_labels)\n",
    "        real_score = outputs\n",
    "        \n",
    "        z = torch.randn(batch_size, latent_size).to(device)\n",
    "        fake_images = G(z)\n",
    "        outputs = D(fake_images)\n",
    "        d_loss_fake = criterion(outputs, fake_labels)\n",
    "        fake_score = outputs\n",
    "        \n",
    "        d_loss = d_loss_real + d_loss_fake\n",
    "        reset_grad()\n",
    "        d_loss.backward()\n",
    "        d_optimizer.step()\n",
    "        \n",
    "        # 训练生成器\n",
    "        z = torch.randn(batch_size, latent_size).to(device)\n",
    "        fake_images = G(z)\n",
    "        outputs = D(fake_images)\n",
    "        \n",
    "        g_loss = criterion(outputs, real_labels)\n",
    "        \n",
    "        reset_grad()\n",
    "        g_loss.backward()\n",
    "        g_optimizer.step()\n",
    "        \n",
    "        if (i+1) % 200 == 0:\n",
    "            print('Epoch [{}/{}], Step [{}/{}], d_loss: {:.4f}, g_loss: {:.4f}, D(x): {:.2f}, D(G(z)): {:.2f}' \n",
    "                  .format(epoch, num_epochs, i+1, total_step, d_loss.item(), g_loss.item(), \n",
    "                          real_score.mean().item(), fake_score.mean().item()))\n",
    "        \n",
    "    # 保存真实图片\n",
    "    if (epoch+1) == 1:\n",
    "        images = images.reshape(images.size(0), 1, 28, 28)\n",
    "        save_image(denorm(images), os.path.join(sample_dir, 'real_images.png'))\n",
    "    \n",
    "    # 保存生成的样本图片\n",
    "    fake_images = fake_images.reshape(fake_images.size(0), 1, 28, 28)\n",
    "    save_image(denorm(fake_images), os.path.join(sample_dir, 'fake_images-{}.png'.format(epoch+1)))\n",
    "        "
   ]
  },
  {
   "cell_type": "code",
   "execution_count": 25,
   "id": "54cc4d75",
   "metadata": {},
   "outputs": [],
   "source": [
    "# Save the model checkpoints \n",
    "torch.save(G.state_dict(), 'G.ckpt')\n",
    "torch.save(D.state_dict(), 'D.ckpt')"
   ]
  },
  {
   "cell_type": "code",
   "execution_count": null,
   "id": "467a9381",
   "metadata": {},
   "outputs": [],
   "source": []
  }
 ],
 "metadata": {
  "kernelspec": {
   "display_name": "machine_zzh",
   "language": "python",
   "name": "machine_zzh"
  },
  "language_info": {
   "codemirror_mode": {
    "name": "ipython",
    "version": 3
   },
   "file_extension": ".py",
   "mimetype": "text/x-python",
   "name": "python",
   "nbconvert_exporter": "python",
   "pygments_lexer": "ipython3",
   "version": "3.10.11"
  }
 },
 "nbformat": 4,
 "nbformat_minor": 5
}
